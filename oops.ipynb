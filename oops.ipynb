{
 "cells": [
  {
   "cell_type": "code",
   "execution_count": 1,
   "id": "b320288c",
   "metadata": {},
   "outputs": [],
   "source": [
    "#Problem 1: Bank Account Create a class representing a bank account with attributes like account number, \n",
    "#account holder name, and balance. \n",
    "#Implement methods to deposit and withdraw money from the account.\n",
    "class bank_account:\n",
    "    \n",
    "    def __init__(self,account_number,account_holder_name,balance):\n",
    "        self.account_number = account_number\n",
    "        self.account_holder_name = account_holder_name\n",
    "        self.balance = balance\n",
    "        print(account_number,account_holder_name,balance)\n",
    "    def deposit(self,amount):\n",
    "        print('deposit rupees', amount )\n",
    "    def withdraw(self,amount):\n",
    "        print('withdraw rupees ', amount)\n",
    "        "
   ]
  },
  {
   "cell_type": "code",
   "execution_count": 2,
   "id": "2e904f6e",
   "metadata": {},
   "outputs": [
    {
     "name": "stdout",
     "output_type": "stream",
     "text": [
      "1234 ani 1000000\n"
     ]
    }
   ],
   "source": [
    "user1 = bank_account('1234','ani','1000000')"
   ]
  },
  {
   "cell_type": "code",
   "execution_count": 3,
   "id": "80981454",
   "metadata": {},
   "outputs": [
    {
     "name": "stdout",
     "output_type": "stream",
     "text": [
      "deposit rupees 300\n"
     ]
    }
   ],
   "source": [
    "user1.deposit(300)"
   ]
  },
  {
   "cell_type": "code",
   "execution_count": 4,
   "id": "4dc6b085",
   "metadata": {},
   "outputs": [
    {
     "name": "stdout",
     "output_type": "stream",
     "text": [
      "withdraw rupees  2000\n"
     ]
    }
   ],
   "source": [
    "user1.withdraw(2000)"
   ]
  },
  {
   "cell_type": "code",
   "execution_count": 5,
   "id": "dead40d6",
   "metadata": {},
   "outputs": [],
   "source": [
    "#Problem 2: Employee Management Create a class representing an employee with attributes like employee ID, name, \n",
    "#and salary. Implement methods to calculate the yearly bonus and display employee details.\n",
    "class Employee_Management:\n",
    "    def __init__(self,employee_id,name,salary):\n",
    "        self.employee_id=employee_id\n",
    "        self.name=name\n",
    "        self.salary=salary\n",
    "    def employee_details(self):\n",
    "        print(\"details of employee : name \", self.name, \"employee_id: \",self.employee_id ,\"yearly salary is \", self.salary)\n",
    "    \n",
    "    def yearly_bonus(self):\n",
    "        print(\"yearly bonus is \", self.salary * 8.33/100)"
   ]
  },
  {
   "cell_type": "code",
   "execution_count": 6,
   "id": "bc1eb9d6",
   "metadata": {},
   "outputs": [],
   "source": [
    "emp1 = Employee_Management('770','ani',1200000)"
   ]
  },
  {
   "cell_type": "code",
   "execution_count": 7,
   "id": "98218084",
   "metadata": {},
   "outputs": [
    {
     "name": "stdout",
     "output_type": "stream",
     "text": [
      "details of employee : name  ani employee_id:  770 yearly salary is  1200000\n"
     ]
    }
   ],
   "source": [
    "emp1.employee_details()"
   ]
  },
  {
   "cell_type": "code",
   "execution_count": 8,
   "id": "ea265b2d",
   "metadata": {},
   "outputs": [
    {
     "name": "stdout",
     "output_type": "stream",
     "text": [
      "yearly bonus is  99960.0\n"
     ]
    }
   ],
   "source": [
    "emp1.yearly_bonus()"
   ]
  },
  {
   "cell_type": "code",
   "execution_count": 9,
   "id": "ed2faafe",
   "metadata": {},
   "outputs": [],
   "source": [
    "#Problem 3: Vehicle Rental Create a class representing a vehicle rental system.\n",
    "#Implement methods to rent a vehicle, return a vehicle, and display available vehicles.\n",
    "class Vehicle_Rental:\n",
    "    def __init__(self,name_of_user,date):\n",
    "        self.name_of_user=name_of_user\n",
    "        self.date=date\n",
    "        \n",
    "    def rent(self,renting_hours):\n",
    "        print('user name', self.name_of_user,'the total hours to rent',renting_hours )\n",
    "    def return_veichle(self,km_run,return_time):\n",
    "        print('the total km run ',km_run,'return timing ',return_time)\n",
    "    def available_vehicle(self,available_vehicle):\n",
    "        print('avilable number of veichles',available_vehicle )"
   ]
  },
  {
   "cell_type": "code",
   "execution_count": 10,
   "id": "7ef58336",
   "metadata": {},
   "outputs": [],
   "source": [
    "ramesh =  Vehicle_Rental('anu','7 oct')"
   ]
  },
  {
   "cell_type": "code",
   "execution_count": 11,
   "id": "bf238a0a",
   "metadata": {},
   "outputs": [
    {
     "name": "stdout",
     "output_type": "stream",
     "text": [
      "the total km run  500 return timing  18:34\n"
     ]
    }
   ],
   "source": [
    "ramesh.return_veichle('500','18:34')"
   ]
  },
  {
   "cell_type": "code",
   "execution_count": 12,
   "id": "4fd07e7b",
   "metadata": {},
   "outputs": [
    {
     "name": "stdout",
     "output_type": "stream",
     "text": [
      "avilable number of veichles 2\n"
     ]
    }
   ],
   "source": [
    "ramesh.available_vehicle('2')"
   ]
  },
  {
   "cell_type": "code",
   "execution_count": 13,
   "id": "08533863",
   "metadata": {},
   "outputs": [],
   "source": [
    "#Problem 4: Library Catalog Create classes representing a library and a book. \n",
    "#Implement methods to add books to the library, borrow books, and display available books.\n",
    "class library:\n",
    "    def __init__(self,add_book, borrow_book,avilable_book):\n",
    "        print('welcome to library')\n",
    "        #self.add_book = add_book\n",
    "        #self.borrow_book = borrow_book\n",
    "        #self.avilable_book=avilable_book\n",
    "    def add_book(self,add_book):\n",
    "        print('mention the books you wish to add ',add_book)\n",
    "    def borrow_book(self,borrow_book):\n",
    "        print('mention the number of books you borrowed',borrow_book)\n",
    "    def available_book(self):\n",
    "        print('available books are', avilable_book)\n",
    "class book(library):\n",
    "    \n",
    "    def __init__(self):\n",
    "        self.name_of_book = name_of_book\n",
    "        self.title_of_book = title\n",
    "        self.page_no = page_no\n",
    "        self.rating_of_book = rating_of_book\n",
    "        self.genre=genre\n",
    "       \n",
    "        \n",
    "    def extract_details(self,genre):\n",
    "        print(self.name_of_book,self.title_of_book,self.genre)\n",
    "        \n",
    "    def print_page_no(self):\n",
    "        print(self.page_no)\n",
    "    def rating_of_book(self):\n",
    "        print(self.rating_of_book)"
   ]
  },
  {
   "cell_type": "code",
   "execution_count": 16,
   "id": "5e5641a4",
   "metadata": {},
   "outputs": [
    {
     "name": "stdout",
     "output_type": "stream",
     "text": [
      "welcome to library\n"
     ]
    }
   ],
   "source": [
    "anwesha = library('dsa,advance data_science','python mc graw hill','computational cognitive science')"
   ]
  },
  {
   "cell_type": "code",
   "execution_count": 17,
   "id": "98393c17",
   "metadata": {},
   "outputs": [
    {
     "name": "stdout",
     "output_type": "stream",
     "text": [
      "mention the books you wish to add  dsa\n"
     ]
    }
   ],
   "source": [
    "anwesha.add_book('dsa')"
   ]
  },
  {
   "cell_type": "code",
   "execution_count": 36,
   "id": "a9d26e6a",
   "metadata": {},
   "outputs": [],
   "source": [
    "#Problem 5: Product Inventory Create classes representing a product and an inventory system. \n",
    "#Implement methods to add products to the inventory, update product quantity, and display available products.\n",
    "\n",
    "class product:\n",
    "    \n",
    "    def __init__(self,pid,price,quantity):\n",
    "        self.pid=pid\n",
    "        self.price=price\n",
    "        self.quantity=quantity\n",
    "        #self.value=value\n",
    "    \n",
    "    def get_id(self):\n",
    "        return self.pid\n",
    "    def display_product(self):\n",
    "        return self.pid\n",
    "    def product_price(self):\n",
    "        return self.price\n",
    "    def product_quant(self):\n",
    "        return self.quantity\n",
    "    def product_value(self):\n",
    "        value =  self.price*self.quantity\n",
    "        return value\n",
    "class inventory:\n",
    "    \n",
    "    def __init__(self,products):\n",
    "        self.products=products\n",
    "        self.value=0\n",
    "        self.apparel=[]\n",
    "        self.grocery=[]\n",
    "        \n",
    "    def display(self):\n",
    "        print(\"inventory products: list of apparels, list of groceries: \", self.apparel, self.grocery)\n",
    "        #return (f\"Inventory(products: {self.products}, grocery_list: {self.fishing_list}, apparel_list: {self.apparel_list}, value: {self.value}))\n",
    "    def add_apparel(self,apparel):\n",
    "        self.apparel=[]\n",
    "        for product in self.products:\n",
    "            if products.get_id == 'clothes':\n",
    "                self.apparel.append(products)\n",
    "            return self.apparel\n",
    "        \n",
    "    def add_groceries(self):\n",
    "        self.grocery=[]\n",
    "        for products in self.products:\n",
    "            if products.get_id == 'grocery':\n",
    "                self.grocery.append(products)\n",
    "            return self.grocery"
   ]
  },
  {
   "cell_type": "code",
   "execution_count": 37,
   "id": "3d4f22f5",
   "metadata": {},
   "outputs": [],
   "source": [
    "user1 = product(123,3000,5)"
   ]
  },
  {
   "cell_type": "code",
   "execution_count": 38,
   "id": "c8f33c51",
   "metadata": {},
   "outputs": [
    {
     "data": {
      "text/plain": [
       "123"
      ]
     },
     "execution_count": 38,
     "metadata": {},
     "output_type": "execute_result"
    }
   ],
   "source": [
    "user1.display_product()"
   ]
  },
  {
   "cell_type": "code",
   "execution_count": 39,
   "id": "11f9f50d",
   "metadata": {},
   "outputs": [
    {
     "data": {
      "text/plain": [
       "15000"
      ]
     },
     "execution_count": 39,
     "metadata": {},
     "output_type": "execute_result"
    }
   ],
   "source": [
    "user1.product_value()"
   ]
  },
  {
   "cell_type": "code",
   "execution_count": 40,
   "id": "a2e6beaa",
   "metadata": {},
   "outputs": [],
   "source": [
    "inventory1 = inventory('clothes')"
   ]
  },
  {
   "cell_type": "code",
   "execution_count": 41,
   "id": "eaecb4fc",
   "metadata": {},
   "outputs": [
    {
     "name": "stdout",
     "output_type": "stream",
     "text": [
      "inventory products: list of apparels, list of groceries:  [] []\n"
     ]
    }
   ],
   "source": [
    "inventory1.display()"
   ]
  },
  {
   "cell_type": "code",
   "execution_count": 42,
   "id": "20a5c40c",
   "metadata": {},
   "outputs": [],
   "source": [
    "#Problem 6: Shape Calculation Create a class representing a shape with attributes like length, width, and height. \n",
    "#Implement methods to calculate the area and perimeter of the shape.\n",
    "import math\n",
    "class shape_calculation:\n",
    "    def triangle_ar(self,length,base,height):\n",
    "        self.length=length\n",
    "        self.base=base\n",
    "        self.height=height\n",
    "        area=self.length*self.base*self.height/2\n",
    "        return area\n",
    "    def triangle_per(self):\n",
    "        per=self.length+self.base+self.height\n",
    "        return per\n",
    "    def rectangle_ar(self,length,breadth):\n",
    "        self.length=length\n",
    "        self.breadth=breadth\n",
    "        area=self.length*self.breadth\n",
    "        return area\n",
    "    def rectangle_per(self) :\n",
    "        per=2*(self.length+self.breadth)\n",
    "        return per\n",
    "    def circle_ar(self,radius):\n",
    "        self.radius=radius\n",
    "        area=math.pi*radius*2\n",
    "        return area\n",
    "    def circle_per(self):\n",
    "        per=2*math.pi*self.radius\n",
    "        return per\n",
    "    def square_ar(self,side):\n",
    "        self.side=side\n",
    "        area=side*side\n",
    "        return area\n",
    "    def square_per(self):\n",
    "        per=4*self.side\n",
    "        return per\n",
    "        "
   ]
  },
  {
   "cell_type": "code",
   "execution_count": 43,
   "id": "b0fcaa05",
   "metadata": {},
   "outputs": [],
   "source": [
    "shape1 = shape_calculation()"
   ]
  },
  {
   "cell_type": "code",
   "execution_count": 44,
   "id": "66f1a158",
   "metadata": {},
   "outputs": [
    {
     "data": {
      "text/plain": [
       "8.0"
      ]
     },
     "execution_count": 44,
     "metadata": {},
     "output_type": "execute_result"
    }
   ],
   "source": [
    "shape1.triangle_ar(2,2,4)"
   ]
  },
  {
   "cell_type": "code",
   "execution_count": 45,
   "id": "eccceafd",
   "metadata": {},
   "outputs": [],
   "source": [
    "shape2 = shape_calculation()"
   ]
  },
  {
   "cell_type": "code",
   "execution_count": 46,
   "id": "d0e5eb3e",
   "metadata": {},
   "outputs": [
    {
     "data": {
      "text/plain": [
       "60"
      ]
     },
     "execution_count": 46,
     "metadata": {},
     "output_type": "execute_result"
    }
   ],
   "source": [
    "shape2.rectangle_ar(12,5)"
   ]
  },
  {
   "cell_type": "code",
   "execution_count": 47,
   "id": "67402028",
   "metadata": {},
   "outputs": [
    {
     "data": {
      "text/plain": [
       "34"
      ]
     },
     "execution_count": 47,
     "metadata": {},
     "output_type": "execute_result"
    }
   ],
   "source": [
    "shape2.rectangle_per()"
   ]
  },
  {
   "cell_type": "code",
   "execution_count": 48,
   "id": "db87e85f",
   "metadata": {},
   "outputs": [],
   "source": [
    "shape3 = shape_calculation()"
   ]
  },
  {
   "cell_type": "code",
   "execution_count": 49,
   "id": "00ac5ce7",
   "metadata": {},
   "outputs": [
    {
     "data": {
      "text/plain": [
       "12.566370614359172"
      ]
     },
     "execution_count": 49,
     "metadata": {},
     "output_type": "execute_result"
    }
   ],
   "source": [
    "shape3.circle_ar(2)"
   ]
  },
  {
   "cell_type": "code",
   "execution_count": 50,
   "id": "75f57250",
   "metadata": {},
   "outputs": [],
   "source": [
    "shape4 = shape_calculation()"
   ]
  },
  {
   "cell_type": "code",
   "execution_count": 51,
   "id": "c693a346",
   "metadata": {},
   "outputs": [
    {
     "data": {
      "text/plain": [
       "16"
      ]
     },
     "execution_count": 51,
     "metadata": {},
     "output_type": "execute_result"
    }
   ],
   "source": [
    "shape4.square_ar(4)"
   ]
  },
  {
   "cell_type": "code",
   "execution_count": 52,
   "id": "cddfcd2f",
   "metadata": {},
   "outputs": [
    {
     "data": {
      "text/plain": [
       "16"
      ]
     },
     "execution_count": 52,
     "metadata": {},
     "output_type": "execute_result"
    }
   ],
   "source": [
    "shape4.square_per()"
   ]
  },
  {
   "cell_type": "code",
   "execution_count": 53,
   "id": "67c47526",
   "metadata": {},
   "outputs": [],
   "source": [
    "#Problem 7: Student Management Create a class representing a student with attributes like student ID, name, and grades. \n",
    "#Implement methods to calculate the average grade and display student details.\n",
    "\n",
    "class student_management_system:\n",
    "    \n",
    "    def __init__(self,name,stdnt_id):\n",
    "        self.name=name\n",
    "        self.stdnt_id=stdnt_id\n",
    "        \n",
    "        \n",
    "    def display_student(self):\n",
    "        print('name of student is: ', self.name,'student id : ', self.stdnt_id)\n",
    "    def sub_grade(self,hindi,english,maths,sci,social_sci):\n",
    "        self.hindi=hindi\n",
    "        self.english=english\n",
    "        self.maths=maths\n",
    "        self.sci=sci\n",
    "        self.social_sci=social_sci\n",
    "        print('grade for hindi: ', self.hindi,'grade for english: ', self.english,'grade for maths: ',self.maths,'grade for sci: ', self.sci,'grade for social_sci: ',self.social_sci )\n",
    "        \n",
    "    def avg_grade(self):\n",
    "        avg=self.hindi+self.english+self.maths+self.sci+self.social_sci/5\n",
    "        return avg"
   ]
  },
  {
   "cell_type": "code",
   "execution_count": 54,
   "id": "309bbbf5",
   "metadata": {},
   "outputs": [],
   "source": [
    "student1 = student_management_system('anwesha',121)"
   ]
  },
  {
   "cell_type": "code",
   "execution_count": 55,
   "id": "7339fb20",
   "metadata": {},
   "outputs": [
    {
     "name": "stdout",
     "output_type": "stream",
     "text": [
      "name of student is:  anwesha student id :  121\n"
     ]
    }
   ],
   "source": [
    "student1.display_student()"
   ]
  },
  {
   "cell_type": "code",
   "execution_count": 56,
   "id": "b87fac79",
   "metadata": {},
   "outputs": [
    {
     "name": "stdout",
     "output_type": "stream",
     "text": [
      "grade for hindi:  98 grade for english:  95 grade for maths:  89 grade for sci:  90 grade for social_sci:  78\n"
     ]
    }
   ],
   "source": [
    "student1.sub_grade(98,95,89,90,78)"
   ]
  },
  {
   "cell_type": "code",
   "execution_count": 57,
   "id": "8e27e85e",
   "metadata": {},
   "outputs": [
    {
     "data": {
      "text/plain": [
       "387.6"
      ]
     },
     "execution_count": 57,
     "metadata": {},
     "output_type": "execute_result"
    }
   ],
   "source": [
    "student1.avg_grade()"
   ]
  },
  {
   "cell_type": "code",
   "execution_count": 58,
   "id": "a6a6c98d",
   "metadata": {},
   "outputs": [],
   "source": [
    "#Problem 8: Email Management Create a class representing an email with attributes like sender, recipient, and subject. \n",
    "#Implement methods to send an email and display email details.\n",
    "class Email_Management:\n",
    "    \n",
    "    def __init__(self,email_id,name,sender,recipient,subject):\n",
    "        self.email_id=email_id\n",
    "        self.name=name\n",
    "        self.sender=sender\n",
    "        self.recipient=recipient\n",
    "        self.subject=subject\n",
    "    \n",
    "        \n",
    "    def display_email_details(self):\n",
    "        print('email id: ', self.email_id,'name = ',self.name,'sender name = ',self.sender,'recipient name =',self.recipient,'subject of email :',self.subject)\n",
    "    def send_mail(self):\n",
    "        print('sent_from :' ,self.sender)\n",
    "        print('sent to : ', self.recipient)\n",
    "        print('subject = ',self.subject)\n",
    "        print('body = consectetur adipiscing elit')"
   ]
  },
  {
   "cell_type": "code",
   "execution_count": 59,
   "id": "2ccc6e53",
   "metadata": {},
   "outputs": [],
   "source": [
    "user1 = Email_Management('ani@gmail.com','ani','ani','ana','hello world')"
   ]
  },
  {
   "cell_type": "code",
   "execution_count": 60,
   "id": "9c697727",
   "metadata": {},
   "outputs": [
    {
     "name": "stdout",
     "output_type": "stream",
     "text": [
      "email id:  ani@gmail.com name =  ani sender name =  ani recipient name = ana subject of email : hello world\n"
     ]
    }
   ],
   "source": [
    "user1.display_email_details()"
   ]
  },
  {
   "cell_type": "code",
   "execution_count": 61,
   "id": "0a9704ab",
   "metadata": {},
   "outputs": [
    {
     "name": "stdout",
     "output_type": "stream",
     "text": [
      "sent_from : ani\n",
      "sent to :  ana\n",
      "subject =  hello world\n",
      "body = consectetur adipiscing elit\n"
     ]
    }
   ],
   "source": [
    "user1.send_mail()"
   ]
  },
  {
   "cell_type": "code",
   "execution_count": 81,
   "id": "cb72710e",
   "metadata": {},
   "outputs": [],
   "source": [
    "#Problem 9: Social Media Profile Create a class representing a social media profile with attributes like username \n",
    "#and posts. Implement methods to add posts, display posts, and search for posts by keyword.\n",
    "class social_media_profile:\n",
    "    \n",
    "    def __init__(self,username,posts):\n",
    "        self.username=username\n",
    "        self.posts=posts\n",
    "        \n",
    "    def add_posts(self):\n",
    "        print(self.username)\n",
    "        new_posts=[]\n",
    "        for posts in self.posts:\n",
    "            if self.posts=='pic':\n",
    "                if self.posts=='reel':\n",
    "                    if self.posts=='subscribe':\n",
    "                        new_posts.append(self.posts)\n",
    "                        return self.posts\n",
    "                        return new_posts\n",
    "                \n",
    "    def display_post(self):\n",
    "        return self.posts"
   ]
  },
  {
   "cell_type": "code",
   "execution_count": 82,
   "id": "b09dae3a",
   "metadata": {},
   "outputs": [],
   "source": [
    "user1 = social_media_profile('ani','pic')"
   ]
  },
  {
   "cell_type": "code",
   "execution_count": 83,
   "id": "304681d3",
   "metadata": {},
   "outputs": [
    {
     "name": "stdout",
     "output_type": "stream",
     "text": [
      "ani\n"
     ]
    }
   ],
   "source": [
    "user1.add_posts()"
   ]
  },
  {
   "cell_type": "code",
   "execution_count": 84,
   "id": "4af93dd8",
   "metadata": {},
   "outputs": [],
   "source": [
    "user2 = social_media_profile('anu','pic')"
   ]
  },
  {
   "cell_type": "code",
   "execution_count": 85,
   "id": "37e15f64",
   "metadata": {},
   "outputs": [
    {
     "name": "stdout",
     "output_type": "stream",
     "text": [
      "anu\n"
     ]
    }
   ],
   "source": [
    "user2.add_posts()"
   ]
  },
  {
   "cell_type": "code",
   "execution_count": 73,
   "id": "7133222e",
   "metadata": {},
   "outputs": [
    {
     "data": {
      "text/plain": [
       "'pic'"
      ]
     },
     "execution_count": 73,
     "metadata": {},
     "output_type": "execute_result"
    }
   ],
   "source": [
    "user2.display_post()"
   ]
  },
  {
   "cell_type": "code",
   "execution_count": 74,
   "id": "75403ca8",
   "metadata": {},
   "outputs": [],
   "source": [
    "user2 = social_media_profile('baby','reel')"
   ]
  },
  {
   "cell_type": "code",
   "execution_count": 75,
   "id": "27bc7836",
   "metadata": {},
   "outputs": [
    {
     "data": {
      "text/plain": [
       "'reel'"
      ]
     },
     "execution_count": 75,
     "metadata": {},
     "output_type": "execute_result"
    }
   ],
   "source": [
    "user2.display_post()"
   ]
  },
  {
   "cell_type": "code",
   "execution_count": 76,
   "id": "cb8dd48b",
   "metadata": {},
   "outputs": [],
   "source": [
    "#Problem 10: ToDo List Create a class representing a ToDo list with attributes like tasks and due dates. \n",
    "#Implement methods to add tasks, mark tasks as completed, and display pending tasks.\n",
    "\n",
    "class Todo_list:\n",
    "    def add_task(self,pending_task):\n",
    "        print(\"pending task: \", pending_task)\n",
    "    def completed_task(self,completed_task):\n",
    "        print(\"completed task: \", completed_task)\n",
    "    def display_pending_task(self,pending_task):\n",
    "        print(\"display pending task: \",pending_task)"
   ]
  },
  {
   "cell_type": "code",
   "execution_count": 77,
   "id": "b58f56a4",
   "metadata": {},
   "outputs": [],
   "source": [
    "anwesha = Todo_list()"
   ]
  },
  {
   "cell_type": "code",
   "execution_count": 78,
   "id": "787b84bd",
   "metadata": {},
   "outputs": [
    {
     "name": "stdout",
     "output_type": "stream",
     "text": [
      "pending task:  home work\n"
     ]
    }
   ],
   "source": [
    "anwesha.add_task('home work')"
   ]
  },
  {
   "cell_type": "code",
   "execution_count": 79,
   "id": "00601707",
   "metadata": {},
   "outputs": [
    {
     "name": "stdout",
     "output_type": "stream",
     "text": [
      "completed task:  swiming\n"
     ]
    }
   ],
   "source": [
    "anwesha.completed_task('swiming')"
   ]
  },
  {
   "cell_type": "code",
   "execution_count": 80,
   "id": "a6824881",
   "metadata": {},
   "outputs": [
    {
     "name": "stdout",
     "output_type": "stream",
     "text": [
      "display pending task:  workout\n"
     ]
    }
   ],
   "source": [
    "anwesha.display_pending_task('workout')"
   ]
  },
  {
   "cell_type": "code",
   "execution_count": null,
   "id": "4e9a72b0",
   "metadata": {},
   "outputs": [],
   "source": []
  }
 ],
 "metadata": {
  "kernelspec": {
   "display_name": "Python 3",
   "language": "python",
   "name": "python3"
  },
  "language_info": {
   "codemirror_mode": {
    "name": "ipython",
    "version": 3
   },
   "file_extension": ".py",
   "mimetype": "text/x-python",
   "name": "python",
   "nbconvert_exporter": "python",
   "pygments_lexer": "ipython3",
   "version": "3.8.8"
  }
 },
 "nbformat": 4,
 "nbformat_minor": 5
}
